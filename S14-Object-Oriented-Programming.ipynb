{
 "cells": [
  {
   "cell_type": "markdown",
   "metadata": {},
   "source": [
    "# The Python Mega Course: Build 10 Real World Applications\n",
    "---"
   ]
  },
  {
   "cell_type": "markdown",
   "metadata": {},
   "source": [
    "This notebook is a summary of [The Python Mega Course: Build 10 Real World Applciations](https://www.udemy.com/the-python-mega-course), a comprehensive online Python course taught by Ardit Sulce. Each lecture name is clickable and takes you to the video lecture in the course."
   ]
  },
  {
   "cell_type": "markdown",
   "metadata": {},
   "source": [
    "# Section 14: Object Oriented Programming\n",
    "***"
   ]
  },
  {
   "cell_type": "markdown",
   "metadata": {},
   "source": [
    "**Lecture:** [Object Oriented Programming Explained](https://www.udemy.com/the-python-mega-course/learn/v4/t/lecture/5170344?start=45)\n",
    "---"
   ]
  },
  {
   "cell_type": "markdown",
   "metadata": {},
   "source": [
    "Object oriented programming is a way to organize programs by encapsulating things in objects. Click on the lecture link to learn more."
   ]
  },
  {
   "cell_type": "markdown",
   "metadata": {},
   "source": [
    "**Lecture:** [Turning this Application into OOP Style, Part 1](https://www.udemy.com/the-python-mega-course/learn/v4/t/lecture/5170346?start=15)\n",
    "---"
   ]
  },
  {
   "cell_type": "markdown",
   "metadata": {},
   "source": [
    "This and the other lecture cover the process of turning the tkinter app into an object oriented design. The complete code is provided in the next lecture."
   ]
  },
  {
   "cell_type": "markdown",
   "metadata": {},
   "source": [
    "\n",
    "**Lecture:** [Turning this Application into OOP Style, Part 2](https://www.udemy.com/the-python-mega-course/learn/v4/t/lecture/5170348?start=0)\n",
    "---"
   ]
  },
  {
   "cell_type": "markdown",
   "metadata": {},
   "source": [
    "Below is the code for `backend.py`:"
   ]
  },
  {
   "cell_type": "code",
   "execution_count": 2,
   "metadata": {
    "collapsed": true
   },
   "outputs": [],
   "source": [
    "#backend.py\n",
    "\n",
    "import sqlite3\n",
    "\n",
    "class Database:\n",
    "    def __init__(self, db):\n",
    "        self.conn=sqlite3.connect(db)\n",
    "        self.cur=self.conn.cursor()\n",
    "        self.cur.execute(\"CREATE TABLE IF NOT EXISTS book (id INTEGER PRIMARY KEY, title text, author text, year integer, isbn integer)\")\n",
    "        self.conn.commit()\n",
    "\n",
    "    def insert(self, title, author, year, isbn):\n",
    "        self.cur.execute(\"INSERT INTO book VALUES (NULL,?,?,?,?)\",(title, author, year, isbn))\n",
    "        self.conn.commit()\n",
    "\n",
    "    def view(self):\n",
    "        self.cur.execute(\"SELECT * FROM book\")\n",
    "        rows=self.cur.fetchall()\n",
    "        return rows\n",
    "\n",
    "    def search(self, title=\"\", author=\"\", year=\"\", isbn=\"\"):\n",
    "        self.cur.execute(\"SELECT * FROM book WHERE title=? OR author=? OR year=? OR isbn=?\", (title,author,year,isbn))\n",
    "        rows=self.cur.fetchall()\n",
    "        return rows\n",
    "\n",
    "    def delete(self, id):\n",
    "        self.cur.execute(\"DELETE FROM book WHERE id=?\",(id,))\n",
    "        self.conn.commit()\n",
    "\n",
    "    def update(self, id, title, author, year, isbn):\n",
    "        self.cur.execute(\"UPDATE book SET title=?, author=?, year=?, isbn=? WHERE id=?\",(title, author, year, isbn, id))\n",
    "        self.conn.commit()\n",
    "\n",
    "    def __del__(self):\n",
    "        self.conn.close\n"
   ]
  },
  {
   "cell_type": "markdown",
   "metadata": {},
   "source": [
    "Here's the code for `frontend.py`:"
   ]
  },
  {
   "cell_type": "code",
   "execution_count": 3,
   "metadata": {},
   "outputs": [
    {
     "ename": "ModuleNotFoundError",
     "evalue": "No module named '_tkinter'",
     "output_type": "error",
     "traceback": [
      "\u001b[0;31m---------------------------------------------------------------------------\u001b[0m",
      "\u001b[0;31mModuleNotFoundError\u001b[0m                       Traceback (most recent call last)",
      "Cell \u001b[0;32mIn[3], line 3\u001b[0m\n\u001b[1;32m      1\u001b[0m \u001b[38;5;66;03m#frontend.py\u001b[39;00m\n\u001b[0;32m----> 3\u001b[0m \u001b[38;5;28;01mfrom\u001b[39;00m \u001b[38;5;21;01mtkinter\u001b[39;00m \u001b[38;5;28;01mimport\u001b[39;00m \u001b[38;5;241m*\u001b[39m\n\u001b[1;32m      4\u001b[0m \u001b[38;5;28;01mfrom\u001b[39;00m \u001b[38;5;21;01mbackend\u001b[39;00m \u001b[38;5;28;01mimport\u001b[39;00m Database\n\u001b[1;32m      6\u001b[0m database\u001b[38;5;241m=\u001b[39mDatabase(\u001b[38;5;124m\"\u001b[39m\u001b[38;5;124mbooks.db\u001b[39m\u001b[38;5;124m\"\u001b[39m)\n",
      "File \u001b[0;32m/usr/local/Cellar/python@3.12/3.12.2_1/Frameworks/Python.framework/Versions/3.12/lib/python3.12/tkinter/__init__.py:38\u001b[0m\n\u001b[1;32m     35\u001b[0m \u001b[38;5;28;01mimport\u001b[39;00m \u001b[38;5;21;01msys\u001b[39;00m\n\u001b[1;32m     36\u001b[0m \u001b[38;5;28;01mimport\u001b[39;00m \u001b[38;5;21;01mtypes\u001b[39;00m\n\u001b[0;32m---> 38\u001b[0m \u001b[38;5;28;01mimport\u001b[39;00m \u001b[38;5;21;01m_tkinter\u001b[39;00m \u001b[38;5;66;03m# If this fails your Python may not be configured for Tk\u001b[39;00m\n\u001b[1;32m     39\u001b[0m TclError \u001b[38;5;241m=\u001b[39m _tkinter\u001b[38;5;241m.\u001b[39mTclError\n\u001b[1;32m     40\u001b[0m \u001b[38;5;28;01mfrom\u001b[39;00m \u001b[38;5;21;01mtkinter\u001b[39;00m\u001b[38;5;21;01m.\u001b[39;00m\u001b[38;5;21;01mconstants\u001b[39;00m \u001b[38;5;28;01mimport\u001b[39;00m \u001b[38;5;241m*\u001b[39m\n",
      "\u001b[0;31mModuleNotFoundError\u001b[0m: No module named '_tkinter'"
     ]
    }
   ],
   "source": [
    "#frontend.py\n",
    "\n",
    "from tkinter import *\n",
    "from backend import Database\n",
    "\n",
    "database=Database(\"books.db\")\n",
    "\n",
    "class Window(object):\n",
    "\n",
    "    def __init__(self, window):\n",
    "\n",
    "        self.window = window\n",
    "\n",
    "        self.window.wm_title(\"BookStore\")\n",
    "\n",
    "        l1 = Label(window, text=\"Title\")\n",
    "        l1.grid(row=0, column=0)\n",
    "\n",
    "        l2 = Label(window, text=\"Author\")\n",
    "        l2.grid(row=0, column=2)\n",
    "\n",
    "        l3 = Label(window, text=\"Year\")\n",
    "        l3.grid(row=1, column=0)\n",
    "\n",
    "        l4 = Label(window, text=\"ISBN\")\n",
    "        l4.grid(row=1, column=2)\n",
    "\n",
    "        self.title_text = StringVar()\n",
    "        self.e1 = Entry(window, textvariable=self.title_text)\n",
    "        self.e1.grid(row=0, column=1)\n",
    "\n",
    "        self.author_text = StringVar()\n",
    "        self.e2 = Entry(window, textvariable=self.author_text)\n",
    "        self.e2.grid(row=0, column=3)\n",
    "\n",
    "        self.year_text=StringVar()\n",
    "        self.e3=Entry(window,textvariable=self.year_text)\n",
    "        self.e3.grid(row=1,column=1)\n",
    "\n",
    "        self.isbn_text = StringVar()\n",
    "        self.e4 = Entry(window, textvariable=self.isbn_text)\n",
    "        self.e4.grid(row=1, column=3)\n",
    "\n",
    "        self.list1 = Listbox(window, height=6,width=35)\n",
    "        self.list1.grid(row=2, column=0, rowspan=6, columnspan=2)\n",
    "\n",
    "        sb1 = Scrollbar(window)\n",
    "        sb1.grid(row=2, column=2, rowspan=6)\n",
    "\n",
    "        self.list1.configure(yscrollcommand=sb1.set)\n",
    "        sb1.configure(command=self.list1.yview)\n",
    "\n",
    "        self.list1.bind('<<ListboxSelect>>', self.get_selected_row)\n",
    "\n",
    "        b1 = Button(window, text=\"View all\", width=12, command=self.view_command)\n",
    "        b1.grid(row=2, column=3)\n",
    "\n",
    "        b2 = Button(window, text=\"Search entry\", width=12, command=self.search_command)\n",
    "        b2.grid(row=3, column=3)\n",
    "\n",
    "        b3 = Button(window, text=\"Add entry\", width=12, command=self.add_command)\n",
    "        b3.grid(row=4, column=3)\n",
    "\n",
    "        b4 = Button(window, text=\"Update selected\", width=12, command=self.update_command)\n",
    "        b4.grid(row=5, column=3)\n",
    "\n",
    "        b5 = Button(window, text=\"Delete selected\", width=12, command=self.delete_command)\n",
    "        b5.grid(row=6,column=3)\n",
    "\n",
    "        b6=Button(window, text=\"Close\", width=12, command=window.destroy)\n",
    "        b6.grid(row=7, column=3)\n",
    "\n",
    "    def get_selected_row(self, event):\n",
    "        index = self.list1.curselection()[0]\n",
    "        self.selected_tuple = self.list1.get(index)\n",
    "        self.e1.delete(0, END)\n",
    "        self.e1.insert(END, self.selected_tuple[1])\n",
    "        self.e2.delete(0, END)\n",
    "        self.e2.insert(END, self.selected_tuple[2])\n",
    "        self.e3.delete(0, END)\n",
    "        self.e3.insert(END, self.selected_tuple[3])\n",
    "        self.e4.delete(0, END)\n",
    "        self.e4.insert(END, self.selected_tuple[4])\n",
    "\n",
    "    def view_command(self):\n",
    "        self.list1.delete(0, END)\n",
    "        for row in database.view():\n",
    "            self.list1.insert(END, row)\n",
    "\n",
    "    def search_command(self):\n",
    "        self.list1.delete(0, END)\n",
    "        for row in database.search(self.title_text.get(), self.author_text.get(), self.year_text.get(), self.isbn_text.get()):\n",
    "            self.list1.insert(END, row)\n",
    "\n",
    "    def add_command(self):\n",
    "        database.insert(self.title_text.get(), self.author_text.get(), self.year_text.get(), self.isbn_text.get())\n",
    "        self.list1.delete(0,END)\n",
    "        self.list1.insert(END, (self.title_text.get(), self.author_text.get(), self.year_text.get(), self.isbn_text.get()))\n",
    "\n",
    "    def delete_command(self):\n",
    "        database.delete(self.selected_tuple[0])\n",
    "\n",
    "    def update_command(self):\n",
    "        database.update(self.selected_tuple[0], self.title_text.get(), self.author_text.get(), self.year_text.get(), self.isbn_text.get())\n",
    "\n",
    "window=Tk()\n",
    "Window(window)\n",
    "window.mainloop()"
   ]
  },
  {
   "cell_type": "markdown",
   "metadata": {},
   "source": [
    "**Lecture:** [Creating a Bank Account Object](https://www.udemy.com/the-python-mega-course/learn/v4/t/lecture/5170352?start=1200)\n",
    "---"
   ]
  },
  {
   "cell_type": "markdown",
   "metadata": {},
   "source": [
    "The code below creates an `Account` class, and after that we create an `account` object instance. For this program to work, make sure you have created a `balance.txt` file staying in the same directory with your code and type in a number inside `balance.txt`. Then run the program. The program will add 200 to the number you typed in the text file."
   ]
  },
  {
   "cell_type": "code",
   "execution_count": 15,
   "metadata": {
    "scrolled": true
   },
   "outputs": [
    {
     "name": "stdout",
     "output_type": "stream",
     "text": [
      "Money before depositing: 1010\n",
      "Money after depositing: 1210\n"
     ]
    }
   ],
   "source": [
    "class Account:\n",
    "\n",
    "    def __init__(self, filepath):\n",
    "        self.filepath = filepath\n",
    "        with open(filepath, 'r') as file:\n",
    "            self.balance = int(file.read())\n",
    "\n",
    "    def withdraw(self, amount):\n",
    "        self.balance = self.balance - amount\n",
    "\n",
    "    def deposit(self, amount):\n",
    "        self.balance = self.balance + amount\n",
    "\n",
    "    def commit(self):\n",
    "        with open(self.filepath, 'w') as file:\n",
    "            file.write(str(self.balance))\n",
    "\n",
    "account = Account(\"balance.txt\")\n",
    "print(\"Money before depositing:\", account.balance)\n",
    "\n",
    "account.deposit(200)\n",
    "print(\"Money after depositing:\", account.balance)\n",
    "account.commit()"
   ]
  },
  {
   "cell_type": "markdown",
   "metadata": {},
   "source": [
    "**Lecture:** [Inheritance](https://www.udemy.com/the-python-mega-course/learn/v4/t/lecture/5170354?start=0)\n",
    "---"
   ]
  },
  {
   "cell_type": "markdown",
   "metadata": {},
   "source": [
    "Inheritance is the process of creating a new class out of another class. The new (child) class will be exactly like the its parent, but you can also add other methods to that child class."
   ]
  },
  {
   "cell_type": "markdown",
   "metadata": {},
   "source": [
    "In the example below, we have an `Account` class and a `Checking` class which is like Account, but it also has a `transfer` method that allows to transfer money."
   ]
  },
  {
   "cell_type": "code",
   "execution_count": 18,
   "metadata": {},
   "outputs": [
    {
     "name": "stdout",
     "output_type": "stream",
     "text": [
      "907\n"
     ]
    }
   ],
   "source": [
    "class Account:\n",
    "\n",
    "    def __init__(self, filepath):\n",
    "        self.filepath = filepath\n",
    "        with open(filepath, 'r') as file:\n",
    "            self.balance = int(file.read())\n",
    "\n",
    "    def withdraw(self, amount):\n",
    "        self.balance = self.balance - amount\n",
    "\n",
    "    def deposit(self, amount):\n",
    "        self.balance = self.balance + amount\n",
    "\n",
    "    def commit(self):\n",
    "        with open(self.filepath, 'w') as file:\n",
    "            file.write(str(self.balance))\n",
    "\n",
    "class Checking(Account):\n",
    "    \"\"\"This class generates checking account objects\"\"\"\n",
    "\n",
    "    type=\"checking\"\n",
    "\n",
    "    def __init__(self, filepath, fee):\n",
    "        Account.__init__(self, filepath)\n",
    "        self.fee = fee\n",
    "\n",
    "    def transfer(self, amount):\n",
    "        self.balance = self.balance - amount - self.fee\n",
    "\n",
    "checking = Checking(\"balance.txt\", 1)\n",
    "checking.transfer(100)\n",
    "print(checking.balance)\n",
    "checking.commit()"
   ]
  },
  {
   "cell_type": "markdown",
   "metadata": {},
   "source": [
    "**Lecture:** [OOP Glossary](https://www.udemy.com/the-python-mega-course/learn/v4/t/lecture/5170356?start=0)\n",
    "---"
   ]
  },
  {
   "cell_type": "markdown",
   "metadata": {},
   "source": [
    "**Class**: A blueprint that allows the creation of objects."
   ]
  },
  {
   "cell_type": "markdown",
   "metadata": {},
   "source": [
    "**Object instance**: An object created by a class."
   ]
  },
  {
   "cell_type": "markdown",
   "metadata": {},
   "source": [
    "**Instance variable**: A variable that can be accessed from the object (e.g. `account.balance`)"
   ]
  },
  {
   "cell_type": "markdown",
   "metadata": {},
   "source": [
    "**Class variable**: A variable that can be accessed from the class (e.g. `Account.balance`)"
   ]
  },
  {
   "cell_type": "markdown",
   "metadata": {},
   "source": [
    "**Doc string**: A string that can be accessed through `__doc__` (e.g. `checking.__doc__`)"
   ]
  },
  {
   "cell_type": "markdown",
   "metadata": {},
   "source": [
    "**Data member**: It refers to either a class variable or an instance variable"
   ]
  },
  {
   "cell_type": "markdown",
   "metadata": {},
   "source": [
    "**Constructor**: The method that constructs the object (i.e. `__init__` method)"
   ]
  },
  {
   "cell_type": "markdown",
   "metadata": {},
   "source": [
    "**Data member**: It refers to either a class variable or an instance variable"
   ]
  },
  {
   "cell_type": "markdown",
   "metadata": {},
   "source": [
    "**Method**: A function defined inside a class."
   ]
  },
  {
   "cell_type": "markdown",
   "metadata": {},
   "source": [
    "**Instantiation**: The process of creating an object (e.g. `account = Account(\"balance.txt\")`)"
   ]
  },
  {
   "cell_type": "markdown",
   "metadata": {},
   "source": [
    "**Inheritance**: The process of creating an class out of another class"
   ]
  },
  {
   "cell_type": "markdown",
   "metadata": {},
   "source": [
    "**Attributes**: Data members accessed from the object (e.g. data member `balance` accessed via `account.balance`)"
   ]
  },
  {
   "cell_type": "markdown",
   "metadata": {},
   "source": [
    "**Practice:** [GUI in OOP Design](https://www.udemy.com/the-python-mega-course/learn/v4/t/lecture/5793824?start=0)\n",
    "---"
   ]
  },
  {
   "cell_type": "markdown",
   "metadata": {},
   "source": [
    "Please alter the `frontend.py` script containing the GUI code by changing its functional-oriented design into an OOP design. You can find the code of `frontend.py` and the `backend.py` files further above."
   ]
  },
  {
   "cell_type": "markdown",
   "metadata": {},
   "source": [
    "**Solution:** [GUI in OOP Design](https://www.udemy.com/the-python-mega-course/learn/v4/t/lecture/5793872?start=0)\n",
    "---"
   ]
  },
  {
   "cell_type": "markdown",
   "metadata": {},
   "source": [
    "Here are the `frontend.py` and `backend.py` scripts in OOP style. To try them you should run `python frontend.py`."
   ]
  },
  {
   "cell_type": "code",
   "execution_count": null,
   "metadata": {
    "collapsed": true
   },
   "outputs": [],
   "source": [
    "#frontend.py\n",
    "\n",
    "from tkinter import *\n",
    "from backend import Database\n",
    " \n",
    "database = Database(\"books.db\")\n",
    " \n",
    "class Window(object):\n",
    " \n",
    "    def __init__(self, window):\n",
    " \n",
    "        self.window = window\n",
    " \n",
    "        self.window.wm_title(\"BookStore\")\n",
    " \n",
    "        l1 = Label(window, text=\"Title\")\n",
    "        l1.grid(row=0, column=0)\n",
    " \n",
    "        l2 = Label(window, text=\"Author\")\n",
    "        l2.grid(row=0, column=2)\n",
    " \n",
    "        l3 = Label(window, text=\"Year\")\n",
    "        l3.grid(row=1, column=0)\n",
    " \n",
    "        l4 = Label(window, text=\"ISBN\")\n",
    "        l4.grid(row=1, column=2)\n",
    " \n",
    "        self.title_text = StringVar()\n",
    "        self.e1 = Entry(window, textvariable=self.title_text)\n",
    "        self.e1.grid(row=0, column=1)\n",
    " \n",
    "        self.author_text = StringVar()\n",
    "        self.e2 = Entry(window, textvariable=self.author_text)\n",
    "        self.e2.grid(row=0, column=3)\n",
    " \n",
    "        self.year_text = StringVar()\n",
    "        self.e3 = Entry(window, textvariable=self.year_text)\n",
    "        self.e3.grid(row=1, column=1)\n",
    " \n",
    "        self.isbn_text = StringVar()\n",
    "        self.e4 = Entry(window, textvariable=self.isbn_text)\n",
    "        self.e4.grid(row=1, column=3)\n",
    " \n",
    "        self.list1 = Listbox(window, height=6, width=35)\n",
    "        self.list1.grid(row=2, column=0, rowspan=6, columnspan=2)\n",
    " \n",
    "        sb1 = Scrollbar(window)\n",
    "        sb1.grid(row=2, column=2, rowspan=6)\n",
    " \n",
    "        self.list1.configure(yscrollcommand=sb1.set)\n",
    "        sb1.configure(command=self.list1.yview)\n",
    " \n",
    "        self.list1.bind('<<ListboxSelect>>', self.get_selected_row)\n",
    " \n",
    "        b1 = Button(window, text=\"View all\", width=12, command=self.view_command)\n",
    "        b1.grid(row=2, column=3)\n",
    " \n",
    "        b2 = Button(window, text=\"Search entry\", width=12, command=self.search_command)\n",
    "        b2.grid(row=3, column=3)\n",
    " \n",
    "        b3 = Button(window, text=\"Add entry\", width=12, command=self.add_command)\n",
    "        b3.grid(row=4, column=3)\n",
    " \n",
    "        b4 = Button(window, text=\"Update selected\", width=12, command=self.update_command)\n",
    "        b4.grid(row=5, column=3)\n",
    " \n",
    "        b5 = Button(window, text=\"Delete selected\", width=12, command=self.delete_command)\n",
    "        b5.grid(row=6, column=3)\n",
    " \n",
    "        b6 = Button(window, text=\"Close\", width=12, command=window.destroy)\n",
    "        b6.grid(row=7, column=3)\n",
    " \n",
    "    def get_selected_row(self,event):\n",
    "        index = self.list1.curselection()[0]\n",
    "        self.selected_tuple = self.list1.get(index)\n",
    "        self.e1.delete(0, END)\n",
    "        self.e1.insert(END, self.selected_tuple[1])\n",
    "        self.e2.delete(0, END)\n",
    "        self.e2.insert(END, self.selected_tuple[2])\n",
    "        self.e3.delete(0, END)\n",
    "        self.e3.insert(END, self.selected_tuple[3])\n",
    "        self.e4.delete(0, END)\n",
    "        self.e4.insert(END, self.selected_tuple[4])\n",
    " \n",
    "    def view_command(self):\n",
    "        self.list1.delete(0, END)\n",
    "        for row in database.view():\n",
    "            self.list1.insert(END, row)\n",
    " \n",
    "    def search_command(self):\n",
    "        self.list1.delete(0, END)\n",
    "        for row in database.search(self.title_text.get(), self.author_text.get(), self.year_text.get(), self.isbn_text.get()):\n",
    "            self.list1.insert(END, row)\n",
    " \n",
    "    def add_command(self):\n",
    "        database.insert(self.title_text.get(), self.author_text.get(), self.year_text.get(), self.isbn_text.get())\n",
    "        self.list1.delete(0, END)\n",
    "        self.list1.insert(END, (self.title_text.get(), self.author_text.get(), self.year_text.get(), self.isbn_text.get()))\n",
    " \n",
    "    def delete_command(self):\n",
    "        database.delete(self.selected_tuple[0])\n",
    " \n",
    "    def update_command(self):\n",
    "        database.update(self.selected_tuple[0], self.title_text.get(), self.author_text.get(), self.year_text.get(), self.isbn_text.get())\n",
    " \n",
    "window = Tk()\n",
    "Window(window)\n",
    "window.mainloop()\n"
   ]
  },
  {
   "cell_type": "code",
   "execution_count": null,
   "metadata": {
    "collapsed": true
   },
   "outputs": [],
   "source": [
    "#backend.py\n",
    "\n",
    "import sqlite3\n",
    "\n",
    "class Database:\n",
    "    def __init__(self, db):\n",
    "        self.conn = sqlite3.connect(db)\n",
    "        self.cur = self.conn.cursor()\n",
    "        self.cur.execute(\"CREATE TABLE IF NOT EXISTS book (id INTEGER PRIMARY KEY, title text, author text, year integer, isbn integer)\")\n",
    "        self.conn.commit()\n",
    "    def insert(self, title, author, year, isbn):\n",
    "        self.cur.execute(\"INSERT INTO book VALUES (NULL,?,?,?,?)\",(title, author, year, isbn))\n",
    "        self.conn.commit()\n",
    "    def view(self):\n",
    "        self.cur.execute(\"SELECT * FROM book\")\n",
    "        rows = self.cur.fetchall()\n",
    "        return rows\n",
    "    def search(self, title=\"\", author=\"\", year=\"\", isbn=\"\"):\n",
    "        self.cur.execute(\"SELECT * FROM book WHERE title=? OR author=? OR year=? OR isbn=?\", (title,author,year,isbn))\n",
    "        rows = self.cur.fetchall()\n",
    "        return rows\n",
    "    def delete(self, id):\n",
    "        self.cur.execute(\"DELETE FROM book WHERE id=?\",(id,))\n",
    "        self.conn.commit()\n",
    "    def update(self, id, title, author, year, isbn):\n",
    "        self.cur.execute(\"UPDATE book SET title=?, author=?, year=?, isbn=? WHERE id=?\",(title, author, year, isbn, id))\n",
    "        self.conn.commit()\n",
    "    def __del__(self):\n",
    "        self.conn.close()"
   ]
  }
 ],
 "metadata": {
  "kernelspec": {
   "display_name": "Python 3",
   "language": "python",
   "name": "python3"
  },
  "language_info": {
   "codemirror_mode": {
    "name": "ipython",
    "version": 3
   },
   "file_extension": ".py",
   "mimetype": "text/x-python",
   "name": "python",
   "nbconvert_exporter": "python",
   "pygments_lexer": "ipython3",
   "version": "3.12.2"
  }
 },
 "nbformat": 4,
 "nbformat_minor": 2
}
